{
 "cells": [
  {
   "cell_type": "markdown",
   "metadata": {
    "id": "7meLO15RZp_s"
   },
   "source": [
    "**Stage 0: Package Setups and Test, Data Download and Copy to Working Directory**"
   ]
  },
  {
   "cell_type": "code",
   "execution_count": 2,
   "metadata": {
    "colab": {
     "base_uri": "https://localhost:8080/"
    },
    "executionInfo": {
     "elapsed": 2049,
     "status": "ok",
     "timestamp": 1758309772170,
     "user": {
      "displayName": "Mohammad Ahsan Fuzail",
      "userId": "14083679986615497548"
     },
     "user_tz": 240
    },
    "id": "_K5N91zXP6Qx",
    "outputId": "2d5b630d-4460-4e3a-f4a0-598cd24fd1d7"
   },
   "outputs": [
    {
     "name": "stdout",
     "output_type": "stream",
     "text": [
      "All required libraries installed successfully\n",
      "Path to dataset files: /home/ahsan98/.cache/kagglehub/datasets/paultimothymooney/chest-xray-pneumonia/versions/2\n"
     ]
    }
   ],
   "source": [
    "#Test installation script\n",
    "import pandas as pd\n",
    "import numpy as np\n",
    "import matplotlib.pyplot as plt\n",
    "import seaborn as sns\n",
    "import sklearn\n",
    "import requests\n",
    "import shutil\n",
    "from sklearn.model_selection import train_test_split\n",
    "from sklearn.ensemble import RandomForestClassifier\n",
    "from sklearn.metrics import classification_report\n",
    "\n",
    "print(\"All required libraries installed successfully\")\n",
    "\n",
    "import kagglehub\n",
    "\n",
    "# Download latest version\n",
    "#path = kagglehub.dataset_download(\"paultimothymooney/chest-xray-pneumonia\")\n",
    "path = \"/home/ahsan98/.cache/kagglehub/datasets/paultimothymooney/chest-xray-pneumonia/versions/2\"\n",
    "print(\"Path to dataset files:\", path)"
   ]
  },
  {
   "cell_type": "markdown",
   "metadata": {
    "id": "bcOFjNUPZ1Te"
   },
   "source": [
    "**Stage 1: Strategic Foundation and Data Exploration**"
   ]
  },
  {
   "cell_type": "code",
   "execution_count": 5,
   "metadata": {
    "id": "WUXqF4RzaXFs"
   },
   "outputs": [
    {
     "name": "stdout",
     "output_type": "stream",
     "text": [
      "Dataset ACTUALLY copied to:  /home/ahsan98/code/residencyII-g1T6-monorepo/data/\n"
     ]
    }
   ],
   "source": [
    "#First, we copy over the dataset to our github repo\n",
    "destination = \"/home/ahsan98/code/residencyII-g1T6-monorepo/data/\"\n",
    "shutil.copytree(path, destination,dirs_exist_ok = True)\n",
    "print(\"Dataset ACTUALLY copied to: \", destination)"
   ]
  }
 ],
 "metadata": {
  "colab": {
   "provenance": []
  },
  "kernelspec": {
   "display_name": "residencyII-g1T6-monorepo",
   "language": "python",
   "name": "python3"
  },
  "language_info": {
   "codemirror_mode": {
    "name": "ipython",
    "version": 3
   },
   "file_extension": ".py",
   "mimetype": "text/x-python",
   "name": "python",
   "nbconvert_exporter": "python",
   "pygments_lexer": "ipython3",
   "version": "3.11.13"
  }
 },
 "nbformat": 4,
 "nbformat_minor": 0
}
